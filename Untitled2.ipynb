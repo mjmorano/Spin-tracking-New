{
 "cells": [
  {
   "cell_type": "code",
   "execution_count": 4,
   "id": "ccac2e81-ab6c-4753-ad45-0f82f64c67e6",
   "metadata": {},
   "outputs": [],
   "source": [
    "import numpy as np\n",
    "import numba\n",
    "import time"
   ]
  },
  {
   "cell_type": "code",
   "execution_count": 13,
   "id": "a1503419-27b4-4dd7-b330-e5028493c9b7",
   "metadata": {},
   "outputs": [
    {
     "name": "stdout",
     "output_type": "stream",
     "text": [
      "0.06178879737854004\n"
     ]
    }
   ],
   "source": [
    "@numba.jit(nopython=True)\n",
    "def fasterP9(x0, gamma_i):\n",
    "\tfor lamda in np.arange(10000000):\n",
    "\t\tlx0 = lamda * x0\n",
    "\t\tlx02 = lx0  * lx0\n",
    "\t\tlx04 = lx02 * lx02\n",
    "\t\tgamma_i2 = gamma_i * gamma_i\n",
    "\t\tt =  lx0 * (59.0625 * gamma_i2 * gamma_i2 + lx02 * (157.5 * gamma_i * gamma_i2 + 94.5 * gamma_i2 * lx02 + lx04 * ( 18.0 * gamma_i + lx04)))\n",
    "\treturn t\n",
    "\n",
    "gamma = 0.5 #not sure what these should be\n",
    "x0 = 1.0 #dunno what these are\n",
    "\n",
    "start = time.time()\n",
    "fasterP9(x0,1./gamma)\n",
    "print(time.time() - start)"
   ]
  },
  {
   "cell_type": "code",
   "execution_count": 10,
   "id": "f7e6c632-3104-48ff-ba82-5e350ec969f4",
   "metadata": {},
   "outputs": [
    {
     "data": {
      "text/plain": [
       "1.35"
      ]
     },
     "execution_count": 10,
     "metadata": {},
     "output_type": "execute_result"
    }
   ],
   "source": [
    "10000000*135E-9"
   ]
  },
  {
   "cell_type": "code",
   "execution_count": null,
   "id": "9db4b196-f60d-4ce7-beb1-76f54a90e6e3",
   "metadata": {},
   "outputs": [],
   "source": []
  }
 ],
 "metadata": {
  "kernelspec": {
   "display_name": "Python 3 (ipykernel)",
   "language": "python",
   "name": "python3"
  },
  "language_info": {
   "codemirror_mode": {
    "name": "ipython",
    "version": 3
   },
   "file_extension": ".py",
   "mimetype": "text/x-python",
   "name": "python",
   "nbconvert_exporter": "python",
   "pygments_lexer": "ipython3",
   "version": "3.9.13"
  }
 },
 "nbformat": 4,
 "nbformat_minor": 5
}
