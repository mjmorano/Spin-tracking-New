{
 "cells": [
  {
   "cell_type": "markdown",
   "id": "0362636f-7db7-4207-a859-e928a7496019",
   "metadata": {},
   "source": [
    "# Attempt for Curiosity of Physics Informed Machine Learning for Spin Tracking"
   ]
  },
  {
   "cell_type": "code",
   "execution_count": 4,
   "id": "9f7b1894-62ed-4905-ac46-ef61b3b5d550",
   "metadata": {},
   "outputs": [],
   "source": [
    "import numpy as np\n",
    "import tensorflow as tf\n",
    "import matplotlib.pyplot as plt\n",
    "import numba"
   ]
  },
  {
   "cell_type": "code",
   "execution_count": 5,
   "id": "14fcc386-998b-486d-a3db-288a9dd14ec0",
   "metadata": {},
   "outputs": [],
   "source": [
    "@numba.jit\n",
    "def vecLen(a):\n",
    "\treturn np.sqrt(np.sum(np.square(a)))\n",
    "\n",
    "@numba.jit\n",
    "def norm(a):\n",
    "\treturn a/vecLen(a)\n",
    "\n",
    "@numba.jit\n",
    "def BPrime(B, E, v, gamma, c):\n",
    "\treturn gamma * B + (1-gamma)*np.dot(B, v)*v/np.dot(v)-gamma/c**2.0*np.cross(v, E)\n",
    "\n",
    "@numba.jit\n",
    "def WT(gamma, c, a, v):\n",
    "\treturn gamma**2.0/(c**2.0 * (gamma+1))*np.cross(a, v)\n",
    "\n",
    "@numba.jit\n",
    "def updateSpin(s, v, B0, E0, consts):\n",
    "\ts = norm(s)\n",
    "\t#this is the base iteration function, the idea is to shift all the values by one step each time this is called\n",
    "\tB = B0+np.cross(E0, v/89875517873681764.0) #big number is the speed of light squared in m^2/s^2\n",
    "\t#update the spin\n",
    "\tcrossVal = consts['gamma']*B+2.0*(consts['dn']/consts['hbar'])*E0\n",
    "\ts = np.cross(s, crossVal)\n",
    "\treturn s\n",
    "\n",
    "# Finds value of y for a given x using step size h\n",
    "@numba.jit\n",
    "def rungeKutta(function, rkA, rkB, rkC, initSpin, h, numIter, V, B0, E0, consts):\n",
    "\t# Count number of iterations using step size or\n",
    "\t# step height h\n",
    "\t#how many k calculations are there\n",
    "\ty0 = np.copy(initSpin)\n",
    "\ts = len(rkC)\n",
    "\tallSpins = None\n",
    "\tallSpins = [y0]\n",
    "\tfor n in range(numIter):\n",
    "\t\tk = [function(y0, v, B0, E0, consts)]\n",
    "\t\tfor i in range(1, s):\n",
    "\t\t\ttemp = np.zeros(y0.shape)\n",
    "\t\t\tfor j in range(1, i):\n",
    "\t\t\t\ttemp+=rkA[i][j]*k[j]\n",
    "\t\t\tk.append(function(y0+h*temp, v, B0, E0, consts))\n",
    "\t\tt = np.zeros(y0.shape)\n",
    "\t\tfor i in range(s):\n",
    "\t\t\tt+=rkB[i]*k[i]\n",
    "\t\ty0 = y0 + h*t\n",
    "\t\ty0 = norm(y0)\n",
    "\t\tallSpins.append(y0)\n",
    "\treturn allSpins\n",
    "\n",
    "def forwardEuler():\n",
    "\trkA = np.array([[0]])\n",
    "\trkB = np.array([1])\n",
    "\trkC = np.array([0])\n",
    "\treturn rkA, rkB, rkC\n",
    "\n",
    "def midpointMethod():\n",
    "\trkA = np.array([[0, 0], [0.5, 0]])\n",
    "\trkB = np.array([0, 1])\n",
    "\trkC = np.array([0, 0.5])\n",
    "\treturn rkA, rkB, rkC\n",
    "\n",
    "def RK3():\n",
    "\trkA = np.array([[0, 0, 0], [0.5, 0, 0], [-1, 2, 0]])\n",
    "\trkB = np.array([1.0/6.0, 2.0/3.0, 1.0/6.0])\n",
    "\trkC = np.array([0.0, 0.5, 1.0])\n",
    "\treturn rkA, rkB, rkC\n",
    "\n",
    "def RK4():\n",
    "\trkA = np.array([[0, 0, 0, 0], [0.5, 0, 0, 0], [0, 0.5, 0, 0], [0, 0, 1, 0]])\n",
    "\trkB = np.array([1.0/6.0, 1.0/3.0, 1.0/3.0, 1.0/6.0])\n",
    "\trkC = np.array([0, 0.5, 0.5, 1.0])\n",
    "\treturn rkA, rkB, rkC\n",
    "\n",
    "def RK45():\n",
    "\trkA = np.array([[0, 0, 0, 0, 0], \n",
    "\t\t   [1/4, 0, 0, 0, 0],\n",
    "\t\t   [3/32, 9/32, 0, 0, 0],\n",
    "\t\t   [1932/2197, -7200/2197, 7296/2197, 0, 0],\n",
    "\t\t   [439/216, -8, 3680/513, -845/4140, 0],\n",
    "\t\t   [-8/27, 2, -3544/2565, 1859/4104, -11/40]])\n",
    "\trkB = np.array([16/135, 0, 6656/12825, 28561/56430, -9/50, 2/55])\n",
    "\trkC = np.array([0, 1/4, 3/8, 12/13, 1, 1/2])\n",
    "\treturn rkA, rkB, rkC\n",
    "\n",
    "def CashKarp6_4_5():\n",
    "\trkA = np.array([[0, 0, 0, 0, 0, 0],\n",
    "\t\t   [1/5, 0, 0, 0, 0, 0],\n",
    "\t\t   [3/40, 9/40, 0, 0, 0, 0],\n",
    "\t\t   [3/10, -9/10, 6/5, 0, 0, 0],\n",
    "\t\t   [-11/54, 5/2, -70/27, 35/2, 0, 0],\n",
    "\t\t   [1631/55296, 175/512, 575/13824, 44275/110592, 253/4096, 0]])\n",
    "\trkB = np.array([37/378, 0, 250/621, 125/594, 0, 512/1771])\n",
    "\trkC = np.array([0, 1/5, 3/10, 3/5, 1, 7/8])\n",
    "\treturn rkA, rkB, rkC"
   ]
  },
  {
   "cell_type": "code",
   "execution_count": 6,
   "id": "b8edf35e-22cb-4c7e-8abc-f92899708713",
   "metadata": {},
   "outputs": [],
   "source": [
    "precision = np.float64\n",
    "neutType = np.dtype([('x', precision, 3), ('v', precision, 3), ('s', precision, 3)])\n",
    "\n",
    "constType = np.dtype([('m', precision), ('dn', precision), ('gamma', precision), ('hbar', precision)])\n",
    "consts = np.array(1, dtype=constType)\n",
    "consts['m']=1.674927485E-27 #units of kg\n",
    "consts['dn'] = 0.0\n",
    "consts['gamma'] = -1.83247171E8\n",
    "consts['hbar'] = 1.054571817E-34\n",
    "\n",
    "#E = np.array([0, 0, 75.0E5], dtype=precision)\n",
    "E = np.array([0, 0, 0], dtype=precision)\n",
    "B = np.array([0, 0, 30.0E-7], dtype=precision)\n",
    "s = np.array([1, 0, 0], dtype=precision)\n",
    "v = np.array([0, 0, 0], dtype=precision)"
   ]
  },
  {
   "cell_type": "code",
   "execution_count": 7,
   "id": "54cb06ea-6597-46ae-98d9-b701d2cef23a",
   "metadata": {},
   "outputs": [],
   "source": [
    "#initial runs to get the JIT compilation out of the way\n",
    "h = 1\n",
    "num = 1\n",
    "rungeKutta(updateSpin, *forwardEuler(), np.copy(s), h, num, v, B, E, consts)\n",
    "rungeKutta(updateSpin, *midpointMethod(), np.copy(s), h, num, v, B, E, consts)\n",
    "rungeKutta(updateSpin, *RK3(), np.copy(s), h, num, v, B, E, consts)\n",
    "rungeKutta(updateSpin, *RK4(), np.copy(s), h, num, v, B, E, consts)\n",
    "rungeKutta(updateSpin, *RK45(), np.copy(s), h, num, v, B, E, consts)\n",
    "rungeKutta(updateSpin, *CashKarp6_4_5(), np.copy(s), h, num, v, B, E, consts)\n",
    "None"
   ]
  },
  {
   "cell_type": "code",
   "execution_count": 22,
   "id": "92dec2cb-5516-468b-9db9-e817f2f44f3c",
   "metadata": {},
   "outputs": [],
   "source": [
    "w = consts['gamma']*vecLen(B) #calculate the frequency\n",
    "period = abs(2.0*np.pi/w)\n",
    "perPeriod = 10000\n",
    "numPeriod = 10\n",
    "timeScale = np.linspace(0, numPeriod*period, numPeriod*perPeriod, endpoint=False)\n",
    "h = np.diff(timeScale)[0]\n",
    "\n",
    "spinsEuler = np.array(rungeKutta(updateSpin, *forwardEuler(), np.copy(s), h, len(timeScale), v, B, E, consts))[:-1]"
   ]
  },
  {
   "cell_type": "code",
   "execution_count": 30,
   "id": "4d56b2b0-3e91-479d-bc2a-e6a2ae7b4393",
   "metadata": {
    "tags": []
   },
   "outputs": [],
   "source": [
    "# Neural network\n",
    "act = tf.keras.layers.ReLU()\n",
    "nn_sv = tf.keras.models.Sequential([\n",
    "  tf.keras.layers.Dense(10, activation=act, input_shape=(1,)),\n",
    "  tf.keras.layers.Dense(10, activation=act),\n",
    "  tf.keras.layers.Dense(1,activation='linear')])"
   ]
  },
  {
   "cell_type": "code",
   "execution_count": 31,
   "id": "55c520dc-2307-4da5-9ba6-f2bf23f12f7f",
   "metadata": {},
   "outputs": [
    {
     "name": "stdout",
     "output_type": "stream",
     "text": [
      "Epoch 1/5\n",
      "20000/20000 [==============================] - 45s 2ms/step - loss: 0.3333\n",
      "Epoch 2/5\n",
      "20000/20000 [==============================] - 45s 2ms/step - loss: 0.3332\n",
      "Epoch 3/5\n",
      "20000/20000 [==============================] - 45s 2ms/step - loss: 0.3332\n",
      "Epoch 4/5\n",
      "20000/20000 [==============================] - 45s 2ms/step - loss: 0.3331\n",
      "Epoch 5/5\n",
      "20000/20000 [==============================] - 44s 2ms/step - loss: 0.3332\n"
     ]
    }
   ],
   "source": [
    "loss_sv = tf.keras.losses.MeanSquaredError()\n",
    "optimizer_sv = tf.keras.optimizers.Adam(learning_rate=0.001)\n",
    "nn_sv.compile(optimizer=optimizer_sv, loss=loss_sv)\n",
    "\n",
    "# Training\n",
    "results_sv = nn_sv.fit(timeScale, spinsEuler, epochs=5, batch_size= 5, verbose=1)"
   ]
  },
  {
   "cell_type": "code",
   "execution_count": 32,
   "id": "dfd3e5de-bb34-49fb-986d-d7b1ef1304d3",
   "metadata": {},
   "outputs": [
    {
     "name": "stdout",
     "output_type": "stream",
     "text": [
      "3125/3125 [==============================] - 7s 2ms/step\n"
     ]
    }
   ],
   "source": [
    "predictions = nn_sv.predict(timeScale)"
   ]
  },
  {
   "cell_type": "code",
   "execution_count": null,
   "id": "e9eddd24-2f3a-4c42-9e2b-87f91b8a5c3b",
   "metadata": {},
   "outputs": [],
   "source": []
  }
 ],
 "metadata": {
  "kernelspec": {
   "display_name": "Python 3 (ipykernel)",
   "language": "python",
   "name": "python3"
  },
  "language_info": {
   "codemirror_mode": {
    "name": "ipython",
    "version": 3
   },
   "file_extension": ".py",
   "mimetype": "text/x-python",
   "name": "python",
   "nbconvert_exporter": "python",
   "pygments_lexer": "ipython3",
   "version": "3.9.13"
  }
 },
 "nbformat": 4,
 "nbformat_minor": 5
}
