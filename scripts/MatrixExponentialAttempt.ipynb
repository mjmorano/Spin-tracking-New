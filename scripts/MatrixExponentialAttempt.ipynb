{
 "cells": [
  {
   "cell_type": "markdown",
   "id": "c290c713-752b-4898-ad59-5b156e8c20ef",
   "metadata": {},
   "source": [
    "# Matrix Exponential Attempt\n",
    "\n",
    "Trying to calculate the matrix exponent"
   ]
  },
  {
   "cell_type": "code",
   "execution_count": 8,
   "id": "69fa29ad-a92f-4297-85f1-2657a13c00b3",
   "metadata": {},
   "outputs": [],
   "source": [
    "import numpy as np\n",
    "import scipy\n",
    "from itertools import product"
   ]
  },
  {
   "cell_type": "code",
   "execution_count": null,
   "id": "46fb0b90-a542-4ff8-9f99-032e7f5dd232",
   "metadata": {},
   "outputs": [],
   "source": [
    "def pick_pade_structure(Am):\n",
    "\tPy_ssize_t n = Am.shape[1]\n",
    "\tlm = 0\n",
    "\ts = 0\n",
    "\tintn = n\n",
    "\tn2 = intn * intn\n",
    "\tint_one = 1\n",
    "\tAmv = np.asarray(Am)\n",
    "\tone = 1.0\n",
    "\tzero = 0.0\n",
    "\tu = (2.0)**-53\n",
    "\tabsA = np.zeros(n)\n",
    "\twork = np.zeros(n)\n",
    "\twork2 = np.zeros(n)\n",
    "\t\n",
    "\ttheta = np.array([1.495585217958292e-002,\n",
    "\t\t\t\t\t  2.539398330063230e-001,\n",
    "\t\t\t\t\t  9.504178996162932e-001,\n",
    "\t\t\t\t\t  2.097847961257068e+000,\n",
    "\t\t\t\t\t  4.250000000000000e+000])\n",
    "\tcoeff = np.array([u*100800.0,\n",
    "\t\t\t\t\t  u*10059033600.0,\n",
    "\t\t\t\t\t  u*4487938430976000.0,\n",
    "\t\t\t\t\t  u*5914384781877411840000.0,\n",
    "\t\t\t\t\t  u*113250775606021113483283660800000000.0])\n",
    "\ttry:\n",
    "\t\tfor j in range(n):\n",
    "\t\t\twork[j] = 1.\n",
    "\t\tfor i in range(n):\n",
    "\t\t\tfor j in range(n):\n",
    "\t\t\t\tabsA[i*n + j] = abs(Am[0, i, j])\n",
    "\n",
    "\t\t# First spin = normest(|A|, 1), increase m when spun more\n",
    "\t\tnormA = kth_power_norm_d(absA, work, work2, n, 1)\n",
    "\t\t{{ pfx }}gemm(cN, cN, &intn, &intn, &intn, &one, &Amv[0, 0, 0], &intn, &Amv[0, 0, 0], &intn, &zero, &Amv[1, 0, 0], &intn)\n",
    "\t\t{{ pfx }}gemm(cN, cN, &intn, &intn, &intn, &one, &Amv[1, 0, 0], &intn, &Amv[1, 0, 0], &intn, &zero, &Amv[2, 0, 0], &intn)\n",
    "\t\t{{ pfx }}gemm(cN, cN, &intn, &intn, &intn, &one, &Amv[2, 0, 0], &intn, &Amv[1, 0, 0], &intn, &zero, &Amv[3, 0, 0], &intn)\n",
    "\t\td4 = norm1(Amv[2]) ** (1./4.)\n",
    "\t\td6 = norm1(Amv[3]) ** (1./6.)\n",
    "\t\teta0 = max(d4, d6)\n",
    "\t\teta1 = eta0\n",
    "\n",
    "\t\t# m = 3\n",
    "\t\ttemp = kth_power_norm_d(absA, work, work2, n, 6)\n",
    "\t\tlm = max(<int>ceil(log2(temp/normA/coeff[0])/6), 0)\n",
    "\t\tif eta0 < theta[0] and lm == 0:\n",
    "\t\t\treturn 3, s\n",
    "\n",
    "\t\t# m = 5\n",
    "\t\ttemp = kth_power_norm_d(absA, work, work2, n, 4)\n",
    "\t\tlm = max(<int>ceil(log2(temp/normA/coeff[1])/10), 0)\n",
    "\t\tif eta1 < theta[1] and lm == 0:\n",
    "\t\t\treturn 5, s\n",
    "\n",
    "\t\t# m = 7\n",
    "\t\tif n < 400:\n",
    "\t\t\t{{ pfx }}gemm(cN, cN, &intn, &intn, &intn, &one, &Amv[2, 0, 0], &intn, &Amv[2, 0, 0], &intn, &zero, &Amv[4, 0, 0], &intn)\n",
    "\t\t\td8 = norm1(Amv[4, :, :]) ** (1./8.)\n",
    "\t\telse:\n",
    "\t\t\td8  = _norm1est(np.asarray(Am[0]), m=8) ** (1./8.)\n",
    "\n",
    "\t\teta2 = max(d6, d8)\n",
    "\t\ttemp = kth_power_norm_d(absA, work, work2, n, 4)\n",
    "\t\tlm = max(<int>ceil(log2(temp/normA/coeff[2])/14), 0)\n",
    "\t\tif eta2 < theta[2] and lm == 0:\n",
    "\t\t\treturn 7, s\n",
    "\n",
    "\t\t# m = 9\n",
    "\t\ttemp = kth_power_norm_d(absA, work, work2, n, 4)\n",
    "\t\tlm = max(<int>ceil(log2(temp/normA/coeff[3])/18), 0)\n",
    "\t\tif eta2 < theta[3] and lm == 0:\n",
    "\t\t\treturn 9, s\n",
    "\n",
    "\t\t# m = 13\n",
    "\t\t# Scale-square\n",
    "\t\tif n < 400:\n",
    "\t\t\t{{ pfx }}gemm(cN, cN, &intn, &intn, &intn, &one, &Amv[3, 0, 0], &intn, &Amv[2, 0, 0], &intn, &zero, &Amv[4, 0, 0], &intn)\n",
    "\t\t\td10 = norm1(Amv[4, :, :]) ** (1./10.)\n",
    "\t\telse:\n",
    "\t\t\td10  = _norm1est(np.asarray(Am[0]), m=10) ** (1./10.)\n",
    "\n",
    "\t\teta3 = max(d8, d10)\n",
    "\t\teta4 = min(eta2, eta3)\n",
    "\t\ts = max(<int>ceil(log2(eta4/theta[4])), 0)\n",
    "\t\tif s != 0:\n",
    "\t\t\ttwo_pow_s = 2.** (-s)\n",
    "\t\t\tdscal(&n2, &two_pow_s, absA, &int_one)\n",
    "\t\t\t# kth_power_norm has spun 19 times already\n",
    "\t\t\ttwo_pow_s = 2.** ((-s)*19.)\n",
    "\t\t\tfor i in range(n):\n",
    "\t\t\t\twork[i] *= two_pow_s\n",
    "\t\t\tnormA *= 2.**(-s)\n",
    "\t\ttemp = kth_power_norm_d(absA, work, work2, n, 8)\n",
    "\t\ts += max(<int>ceil(log2(temp/normA/coeff[4])/26), 0)\n",
    "\t\treturn 13, s\n",
    "\tfinally:\n",
    "\t\tfree(work)\n",
    "\t\tfree(work2)\n",
    "\t\tfree(absA)\n"
   ]
  },
  {
   "cell_type": "code",
   "execution_count": 20,
   "id": "7ddfc567-9a3f-4243-956f-b6b273015861",
   "metadata": {},
   "outputs": [],
   "source": [
    "def ScipyVersion(A):\n",
    "\ta = np.asarray(A)\n",
    "\n",
    "\t# larger problem with unspecified stacked dimensions.\n",
    "\tn = a.shape[-1]\n",
    "\teA = np.empty(a.shape, dtype=a.dtype)\n",
    "\t# working memory to hold intermediate arrays\n",
    "\tAm = np.empty((5, n, n), dtype=a.dtype)\n",
    "\n",
    "\t# Main loop to go through the slices of an ndarray and passing to expm\n",
    "\tfor ind in product(*[range(x) for x in a.shape[:-2]]):\n",
    "\t\taw = a[ind]\n",
    "\t\t# Generic/triangular case; copy the slice into scratch and send.\n",
    "\t\t# Am will be mutated by pick_pade_structure\n",
    "\t\tAm[0, :, :] = aw\n",
    "\t\tm, s = pick_pade_structure(Am)\n",
    "\n",
    "\t\tif s != 0:  # scaling needed\n",
    "\t\t\tAm[:4] *= [[[2**(-s)]], [[4**(-s)]], [[16**(-s)]], [[64**(-s)]]]\n",
    "\n",
    "\t\tpade_UV_calc(Am, n, m)\n",
    "\t\teAw = Am[0]\n",
    "\t\tfor _ in range(s):\n",
    "\t\t\teAw = eAw @ eAw\n",
    "\n",
    "\t\t# Zero out the entries from np.empty in case of triangular input\n",
    "\t\teA[ind] = eAw\n",
    "\n",
    "\treturn eA"
   ]
  },
  {
   "cell_type": "code",
   "execution_count": 21,
   "id": "5a9c61a7-1d4d-416f-a276-5034e43021a1",
   "metadata": {},
   "outputs": [],
   "source": [
    "matrix = np.array([[0, 1, 0], [-1, 0, 0], [0, 0, 0]])"
   ]
  },
  {
   "cell_type": "code",
   "execution_count": 22,
   "id": "020cbd8c-f0c9-4a31-8c5d-964fae5d4452",
   "metadata": {},
   "outputs": [
    {
     "ename": "NameError",
     "evalue": "name 'pick_pade_structure' is not defined",
     "output_type": "error",
     "traceback": [
      "\u001b[0;31m---------------------------------------------------------------------------\u001b[0m",
      "\u001b[0;31mNameError\u001b[0m                                 Traceback (most recent call last)",
      "\u001b[0;32m/tmp/ipykernel_352/411066451.py\u001b[0m in \u001b[0;36m<module>\u001b[0;34m\u001b[0m\n\u001b[0;32m----> 1\u001b[0;31m \u001b[0mScipyVersion\u001b[0m\u001b[0;34m(\u001b[0m\u001b[0mmatrix\u001b[0m\u001b[0;34m)\u001b[0m\u001b[0;34m\u001b[0m\u001b[0;34m\u001b[0m\u001b[0m\n\u001b[0m",
      "\u001b[0;32m/tmp/ipykernel_352/1705572338.py\u001b[0m in \u001b[0;36mScipyVersion\u001b[0;34m(A)\u001b[0m\n\u001b[1;32m     14\u001b[0m                 \u001b[0;31m# Am will be mutated by pick_pade_structure\u001b[0m\u001b[0;34m\u001b[0m\u001b[0;34m\u001b[0m\u001b[0m\n\u001b[1;32m     15\u001b[0m                 \u001b[0mAm\u001b[0m\u001b[0;34m[\u001b[0m\u001b[0;36m0\u001b[0m\u001b[0;34m,\u001b[0m \u001b[0;34m:\u001b[0m\u001b[0;34m,\u001b[0m \u001b[0;34m:\u001b[0m\u001b[0;34m]\u001b[0m \u001b[0;34m=\u001b[0m \u001b[0maw\u001b[0m\u001b[0;34m\u001b[0m\u001b[0;34m\u001b[0m\u001b[0m\n\u001b[0;32m---> 16\u001b[0;31m                 \u001b[0mm\u001b[0m\u001b[0;34m,\u001b[0m \u001b[0ms\u001b[0m \u001b[0;34m=\u001b[0m \u001b[0mpick_pade_structure\u001b[0m\u001b[0;34m(\u001b[0m\u001b[0mAm\u001b[0m\u001b[0;34m)\u001b[0m\u001b[0;34m\u001b[0m\u001b[0;34m\u001b[0m\u001b[0m\n\u001b[0m\u001b[1;32m     17\u001b[0m \u001b[0;34m\u001b[0m\u001b[0m\n\u001b[1;32m     18\u001b[0m                 \u001b[0;32mif\u001b[0m \u001b[0ms\u001b[0m \u001b[0;34m!=\u001b[0m \u001b[0;36m0\u001b[0m\u001b[0;34m:\u001b[0m  \u001b[0;31m# scaling needed\u001b[0m\u001b[0;34m\u001b[0m\u001b[0;34m\u001b[0m\u001b[0m\n",
      "\u001b[0;31mNameError\u001b[0m: name 'pick_pade_structure' is not defined"
     ]
    }
   ],
   "source": [
    "ScipyVersion(matrix)"
   ]
  },
  {
   "cell_type": "code",
   "execution_count": 12,
   "id": "55fa1e0e-52f4-48c6-9118-bbdae478a822",
   "metadata": {},
   "outputs": [
    {
     "data": {
      "text/plain": [
       "(1, 1)"
      ]
     },
     "execution_count": 12,
     "metadata": {},
     "output_type": "execute_result"
    }
   ],
   "source": [
    "scipy.linalg.bandwidth(matrix)"
   ]
  },
  {
   "cell_type": "code",
   "execution_count": null,
   "id": "4ef2320f-4ef1-41a4-8af4-9f5fb698c40f",
   "metadata": {},
   "outputs": [],
   "source": []
  }
 ],
 "metadata": {
  "kernelspec": {
   "display_name": "Python 3 (ipykernel)",
   "language": "python",
   "name": "python3"
  },
  "language_info": {
   "codemirror_mode": {
    "name": "ipython",
    "version": 3
   },
   "file_extension": ".py",
   "mimetype": "text/x-python",
   "name": "python",
   "nbconvert_exporter": "python",
   "pygments_lexer": "ipython3",
   "version": "3.9.13"
  }
 },
 "nbformat": 4,
 "nbformat_minor": 5
}
